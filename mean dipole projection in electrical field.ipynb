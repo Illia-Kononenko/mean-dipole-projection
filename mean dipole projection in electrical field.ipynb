{
 "cells": [
  {
   "cell_type": "code",
   "execution_count": 1,
   "id": "36993cf9",
   "metadata": {},
   "outputs": [
    {
     "name": "stdout",
     "output_type": "stream",
     "text": [
      "simulation 4.988558611894261\n",
      "analytical solution 4.98\n",
      "0.9982843517416325\n"
     ]
    }
   ],
   "source": [
    "import numpy as np\n",
    "import math\n",
    "import random\n",
    "N=100\n",
    "p=5\n",
    "E=500\n",
    "k=1\n",
    "T=10\n",
    "alpha=p*E/(k*T)\n",
    "mean_p=p*(1/math.tanh(alpha)-1/alpha)\n",
    "mean_p\n",
    "system=np.random.uniform(0,math.pi,N)\n",
    "system=system.tolist()\n",
    "def En(system):\n",
    "    return -p*E*np.sum(np.cos(system))\n",
    "for i in range(10000):\n",
    "    x=random.randrange(len(system))\n",
    "    new_system=system.copy()\n",
    "    new_system.pop(x) \n",
    "    new_system.insert(x, random.uniform(0,math.pi))\n",
    "    if En(new_system)<=En(system):\n",
    "        system=new_system\n",
    "    else:\n",
    "        rand=random.random()\n",
    "        w=math.exp(-(En(new_system)-En(system))/(k*T))\n",
    "        if w>=rand:\n",
    "            system=new_system\n",
    "        else:    \n",
    "            continue\n",
    "p_mean_exp=np.mean(np.cos(system))*p            \n",
    "print('simulation', p_mean_exp)\n",
    "print('analytical solution',mean_p)\n",
    "print(mean_p/(p_mean_exp))"
   ]
  },
  {
   "cell_type": "code",
   "execution_count": null,
   "id": "e86da84c",
   "metadata": {},
   "outputs": [],
   "source": []
  }
 ],
 "metadata": {
  "kernelspec": {
   "display_name": "Python 3 (ipykernel)",
   "language": "python",
   "name": "python3"
  },
  "language_info": {
   "codemirror_mode": {
    "name": "ipython",
    "version": 3
   },
   "file_extension": ".py",
   "mimetype": "text/x-python",
   "name": "python",
   "nbconvert_exporter": "python",
   "pygments_lexer": "ipython3",
   "version": "3.9.12"
  }
 },
 "nbformat": 4,
 "nbformat_minor": 5
}
